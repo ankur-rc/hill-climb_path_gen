{
 "cells": [
  {
   "cell_type": "code",
   "execution_count": 2,
   "metadata": {},
   "outputs": [],
   "source": [
    "import numpy as np\n",
    "from sys import argv\n",
    "import matplotlib.pyplot as plt\n",
    "\n",
    "%matplotlib inline"
   ]
  },
  {
   "cell_type": "code",
   "execution_count": 3,
   "metadata": {},
   "outputs": [],
   "source": [
    "ip_file = \"625_ai/Project 1/Code/heatmap_1.txt\""
   ]
  },
  {
   "cell_type": "code",
   "execution_count": 4,
   "metadata": {},
   "outputs": [],
   "source": [
    "pdist_list = []\n",
    "last_line = ''\n",
    "\n",
    "with open(ip_file, 'r') as heatmap:\n",
    "        for line in heatmap:\n",
    "            points = line.split()\n",
    "            pdist_list.append(points[2])\n",
    "        last_line = line\n",
    "        \n",
    "x_max_coord = int(last_line.split()[0])\n",
    "y_max_coord = int(last_line.split()[1])\n",
    "\n",
    "pdist = np.reshape(np.array(pdist_list, dtype=float), [x_max_coord+1, y_max_coord+1])"
   ]
  },
  {
   "cell_type": "code",
   "execution_count": 6,
   "metadata": {},
   "outputs": [
    {
     "name": "stdout",
     "output_type": "stream",
     "text": [
      "[[ 0.70917838  0.61786794]\n",
      " [ 0.24350417  0.99175389]\n",
      " [ 0.01804776  0.56523984]\n",
      " [ 0.92474931  0.45232888]\n",
      " [ 0.52689415  0.43769472]\n",
      " [ 0.76881426  0.66822251]]\n"
     ]
    }
   ],
   "source": []
  },
  {
   "cell_type": "code",
   "execution_count": null,
   "metadata": {},
   "outputs": [],
   "source": []
  }
 ],
 "metadata": {
  "kernelspec": {
   "display_name": "Python 2",
   "language": "python",
   "name": "python2"
  },
  "language_info": {
   "codemirror_mode": {
    "name": "ipython",
    "version": 2
   },
   "file_extension": ".py",
   "mimetype": "text/x-python",
   "name": "python",
   "nbconvert_exporter": "python",
   "pygments_lexer": "ipython2",
   "version": "2.7.14"
  }
 },
 "nbformat": 4,
 "nbformat_minor": 2
}
